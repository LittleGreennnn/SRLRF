{
 "cells": [
  {
   "cell_type": "code",
   "execution_count": null,
   "id": "a4451595-087c-455d-9422-ea401cee459b",
   "metadata": {},
   "outputs": [],
   "source": [
    "from transformers import AutoTokenizer, AutoModelForSequenceClassification\n",
    "\n",
    "model_name = r'model/RTA'\n",
    "tokenizer = AutoTokenizer.from_pretrained(model_name)\n",
    "model = AutoModelForSequenceClassification.from_pretrained(model_name, num_labels=8) "
   ]
  },
  {
   "cell_type": "code",
   "execution_count": null,
   "id": "c6b1a5aa-6777-4d9a-8f15-7bc4e57616ab",
   "metadata": {
    "scrolled": true
   },
   "outputs": [],
   "source": [
    "# 查看模型架构\n",
    "model"
   ]
  },
  {
   "cell_type": "code",
   "execution_count": null,
   "id": "5978c783-e2ce-4b5e-9522-1cf99a441aec",
   "metadata": {},
   "outputs": [],
   "source": [
    "# 计算参数量\n",
    "num_params = sum(p.numel() for p in model.parameters() if p.requires_grad)\n",
    "print(f\"Model has {num_params} trainable parameters.\")"
   ]
  },
  {
   "cell_type": "code",
   "execution_count": null,
   "id": "d63a9535-db35-403c-b3a9-17f83eacb003",
   "metadata": {},
   "outputs": [],
   "source": [
    "from datasets import load_dataset\n",
    "\n",
    "# 加载数据集\n",
    "dataset = load_dataset('csv', data_files={'train': 'data/train_dataset_bert.csv', 'test': 'data/test_dataset_bert.csv'})"
   ]
  },
  {
   "cell_type": "code",
   "execution_count": null,
   "id": "64f0d80f-bd93-4310-955d-401c48b30afa",
   "metadata": {},
   "outputs": [],
   "source": [
    "def preprocess_data(examples):\n",
    "    return tokenizer(examples['text'], padding='max_length', truncation=True, max_length=512)\n",
    "\n",
    "encoded_train_dataset = dataset['train'].map(preprocess_data, batched=True)\n",
    "encoded_test_dataset = dataset['test'].map(preprocess_data, batched=True)"
   ]
  },
  {
   "cell_type": "code",
   "execution_count": null,
   "id": "c155e89a-0800-48b8-a121-e30458cdb992",
   "metadata": {
    "scrolled": true
   },
   "outputs": [],
   "source": [
    "encoded_test_dataset[0]"
   ]
  },
  {
   "cell_type": "code",
   "execution_count": null,
   "id": "bd163342-af20-471b-b487-79d9e7d654a1",
   "metadata": {
    "scrolled": true
   },
   "outputs": [],
   "source": [
    "from transformers import TrainingArguments, Trainer, DataCollatorWithPadding\n",
    "\n",
    "# 设置训练参数\n",
    "training_args = TrainingArguments(\n",
    "    output_dir='output/RTA-v3',           # 保存结果的文件夹\n",
    "    learning_rate=1e-5,               # 学习率\n",
    "    per_device_train_batch_size=32,    # 训练时的 batch size\n",
    "    per_device_eval_batch_size=32,     # 评估时的 batch size\n",
    "    num_train_epochs=20,               # 训练的 epoch 数\n",
    "    weight_decay=0.1,                # 权重衰减\n",
    "    logging_steps=100,\n",
    "    eval_strategy=\"steps\",\n",
    "    eval_steps=100,\n",
    "    report_to=\"none\",\n",
    "    lr_scheduler_type=\"linear\",  \n",
    "    warmup_steps=500,  # 设置 warmup 步骤\n",
    "    save_strategy=\"steps\",\n",
    "    save_steps=200,\n",
    ")\n",
    "\n",
    "# 定义 Trainer\n",
    "trainer = Trainer(\n",
    "    model=model,\n",
    "    args=training_args,\n",
    "    train_dataset=encoded_train_dataset,   # 训练集\n",
    "    eval_dataset=encoded_test_dataset,     # 测试集\n",
    "    data_collator=DataCollatorWithPadding(tokenizer=tokenizer)\n",
    ")"
   ]
  },
  {
   "cell_type": "code",
   "execution_count": null,
   "id": "0470a460-5914-4014-8602-ec4717edd42b",
   "metadata": {
    "scrolled": true
   },
   "outputs": [],
   "source": [
    "# 开始训练\n",
    "trainer.train()"
   ]
  },
  {
   "cell_type": "code",
   "execution_count": null,
   "id": "6ad5d043-9e5c-4bf0-8448-a9073220777a",
   "metadata": {
    "scrolled": true
   },
   "outputs": [],
   "source": [
    "from sklearn.metrics import classification_report, confusion_matrix\n",
    "import seaborn as sns\n",
    "import numpy as np\n",
    "from transformers import AutoModelForSequenceClassification, AutoTokenizer, Trainer, TrainingArguments\n",
    "\n",
    "# 加载模型和检查点\n",
    "checkpoint_path = \"./output/RTA-20241129/checkpoint-1000\"\n",
    "model = AutoModelForSequenceClassification.from_pretrained(checkpoint_path)\n",
    "tokenizer = AutoTokenizer.from_pretrained(model_name)\n",
    "\n",
    "training_args = TrainingArguments(\n",
    "    output_dir='./results', \n",
    "    per_device_eval_batch_size=32,  \n",
    "    do_train=False,  # 关闭训练\n",
    "    do_eval=True,    # 打开评估模式\n",
    ")\n",
    "\n",
    "trainer = Trainer(\n",
    "    model=model,                        \n",
    "    args=training_args,  \n",
    ")\n",
    "\n",
    "# 在测试集上进行预测\n",
    "predictions, labels, _ = trainer.predict(encoded_test_dataset)\n",
    "\n",
    "# 获取预测的类别\n",
    "predicted_classes = np.argmax(predictions, axis=1)\n",
    "\n",
    "\n",
    "class_names = ['code-simplification-optimization-defects',\n",
    "    'control-flow-optimization-defects',\n",
    "    'data-flow-analysis-optimization-defects',\n",
    "    'infrastructure-defects',\n",
    "    'interprocedural-optimization-defects',\n",
    "    'memory-optimization-defects',\n",
    "    'numerical-analysis-optimization-defects',\n",
    "    'vectorization-defects']\n",
    "\n",
    "# 生成分类报告\n",
    "report = classification_report(labels, predicted_classes, target_names=class_names,digits=4)  # 替换为你的类别标签\n",
    "print(\"分类报告：\")\n",
    "print(report)\n",
    "\n",
    "# 生成混淆矩阵\n",
    "conf_matrix = confusion_matrix(labels, predicted_classes)"
   ]
  },
  {
   "cell_type": "code",
   "execution_count": null,
   "id": "cb8a8222-29e8-4ee9-8557-052284dd4c4a",
   "metadata": {},
   "outputs": [],
   "source": [
    "dataset['test'][10]"
   ]
  },
  {
   "cell_type": "code",
   "execution_count": null,
   "id": "37b941a6-d7c7-4dfb-9081-e824485c1354",
   "metadata": {},
   "outputs": [],
   "source": []
  }
 ],
 "metadata": {
  "kernelspec": {
   "display_name": "unsloth_env",
   "language": "python",
   "name": "unsloth_env"
  },
  "language_info": {
   "codemirror_mode": {
    "name": "ipython",
    "version": 3
   },
   "file_extension": ".py",
   "mimetype": "text/x-python",
   "name": "python",
   "nbconvert_exporter": "python",
   "pygments_lexer": "ipython3",
   "version": "3.11.10"
  }
 },
 "nbformat": 4,
 "nbformat_minor": 5
}
