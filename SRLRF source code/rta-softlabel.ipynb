{
 "cells": [
  {
   "cell_type": "code",
   "execution_count": null,
   "id": "c297922e-d85e-489e-902e-d38a9077b0de",
   "metadata": {},
   "outputs": [],
   "source": [
    "from transformers import AutoTokenizer, AutoModelForSequenceClassification\n",
    "\n",
    "model_name = r'model/RTA'\n",
    "tokenizer = AutoTokenizer.from_pretrained(model_name)\n",
    "model = AutoModelForSequenceClassification.from_pretrained(model_name, num_labels=8) "
   ]
  },
  {
   "cell_type": "code",
   "execution_count": null,
   "id": "c93bbe97-611c-492d-b398-ca925d3248f8",
   "metadata": {},
   "outputs": [],
   "source": [
    "from datasets import load_dataset, concatenate_datasets\n",
    "\n",
    "test_dataset = load_dataset('csv', data_files='data/dataset_5fold_1/dataset_fold_4.csv')['train']\n",
    "\n",
    "print(f'test_dataset:{test_dataset}')"
   ]
  },
  {
   "cell_type": "code",
   "execution_count": null,
   "id": "ca110f18-5d1b-43a5-a269-0cb0a0d7af52",
   "metadata": {},
   "outputs": [],
   "source": [
    "def preprocess_data(examples):\n",
    "    return tokenizer(examples['text'], padding='max_length', truncation=True, max_length=512)\n",
    "\n",
    "encoded_test_dataset = test_dataset.map(preprocess_data, batched=True)"
   ]
  },
  {
   "cell_type": "code",
   "execution_count": null,
   "id": "e69faaa0-b68a-46d1-af33-3dafe087c7b2",
   "metadata": {},
   "outputs": [],
   "source": [
    "# 生成测试集的元特征\n",
    "from sklearn.metrics import classification_report, accuracy_score\n",
    "from transformers import TrainingArguments, Trainer\n",
    "import numpy as np\n",
    "import pandas as pd\n",
    "import torch\n",
    "\n",
    "model = AutoModelForSequenceClassification.from_pretrained(\"./output/RTA-ensemble-v2-4/checkpoint-1200\")\n",
    "\n",
    "class_names = [\n",
    "    'code-simplification-optimization-defects',\n",
    "    'control-flow-optimization-defects',\n",
    "    'data-flow-analysis-optimization-defects',\n",
    "    'infrastructure-defects',\n",
    "    'interprocedural-optimization-defects',\n",
    "    'memory-optimization-defects',\n",
    "    'numerical-analysis-optimization-defects',\n",
    "    'vectorization-defects'\n",
    "]\n",
    "\n",
    "# 配置训练参数\n",
    "training_args = TrainingArguments(\n",
    "    output_dir='./results', \n",
    "    per_device_eval_batch_size=32,  \n",
    "    do_train=False,  # 关闭训练\n",
    "    do_eval=True,    # 打开评估模式\n",
    "    report_to=\"none\",\n",
    ")\n",
    "\n",
    "# 创建Trainer实例\n",
    "trainer = Trainer(\n",
    "    model=model,                        \n",
    "    args=training_args,  \n",
    ")\n",
    "\n",
    "test_predictions, test_labels, _ = trainer.predict(encoded_test_dataset)\n",
    "\n",
    "# 获取预测的类别\n",
    "test_predicted_classes = np.argmax(test_predictions, axis=1)\n",
    "\n",
    "# 将预测的 logits 转换为概率分布（soft labels）\n",
    "test_soft_labels = torch.nn.functional.softmax(torch.tensor(test_predictions), dim=1).numpy()\n",
    "\n",
    "# 计算分类准确度\n",
    "accuracy = accuracy_score(test_labels, test_predicted_classes)\n",
    "report = classification_report(test_labels, test_predicted_classes, target_names=class_names, digits=4)\n",
    "print(f\"Accuracy: {accuracy:.4f}\")\n",
    "print(\"分类报告：\")\n",
    "print(report)\n",
    "\n",
    "# # 保存元特征\n",
    "# column_names = [f\"rta-{i}\" for i in range(8)]\n",
    "# test_predictions_df = pd.DataFrame(test_soft_labels, columns=column_names)\n",
    "# test_predictions_df.to_csv(\"data/soft-label/rta-soft-labels-v2-4.csv\", index=False)\n",
    "# print(\"\\n预测结果已保存\")"
   ]
  },
  {
   "cell_type": "code",
   "execution_count": null,
   "id": "54070efc-ba52-4b94-9478-152dae7a9995",
   "metadata": {
    "scrolled": true
   },
   "outputs": [],
   "source": [
    "encoded_test_dataset[0]"
   ]
  },
  {
   "cell_type": "code",
   "execution_count": null,
   "id": "843efff7-4fa8-435f-8b84-e9593f01d2d5",
   "metadata": {},
   "outputs": [],
   "source": [
    "test_predictions.shape"
   ]
  },
  {
   "cell_type": "code",
   "execution_count": null,
   "id": "6f46324f-8b7a-4059-a50b-b800145b6f95",
   "metadata": {},
   "outputs": [],
   "source": []
  }
 ],
 "metadata": {
  "kernelspec": {
   "display_name": "unsloth_env",
   "language": "python",
   "name": "unsloth_env"
  },
  "language_info": {
   "codemirror_mode": {
    "name": "ipython",
    "version": 3
   },
   "file_extension": ".py",
   "mimetype": "text/x-python",
   "name": "python",
   "nbconvert_exporter": "python",
   "pygments_lexer": "ipython3",
   "version": "3.11.10"
  }
 },
 "nbformat": 4,
 "nbformat_minor": 5
}
